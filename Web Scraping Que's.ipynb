{
 "cells": [
  {
   "cell_type": "markdown",
   "metadata": {},
   "source": [
    "# Web Scraping"
   ]
  },
  {
   "cell_type": "markdown",
   "metadata": {},
   "source": [
    "## Que 2-7:"
   ]
  },
  {
   "cell_type": "markdown",
   "metadata": {},
   "source": [
    "## 2. Write a python program to display IMDB’s Top rated 100 movies’ data (i.e. Name, IMDB rating, Year of release)."
   ]
  },
  {
   "cell_type": "code",
   "execution_count": null,
   "metadata": {},
   "outputs": [],
   "source": [
    "url = 'https://www.imdb.com/chart/top/'"
   ]
  },
  {
   "cell_type": "code",
   "execution_count": null,
   "metadata": {},
   "outputs": [],
   "source": [
    "page = requests.get(url)\n",
    "page"
   ]
  },
  {
   "cell_type": "code",
   "execution_count": null,
   "metadata": {},
   "outputs": [],
   "source": [
    "# display page source code\n",
    "page.content"
   ]
  },
  {
   "cell_type": "code",
   "execution_count": null,
   "metadata": {},
   "outputs": [],
   "source": [
    "soup = BeautifulSoup(page.content,'html.parser')\n",
    "print(soup.prettify)"
   ]
  },
  {
   "cell_type": "code",
   "execution_count": null,
   "metadata": {},
   "outputs": [],
   "source": [
    "scraped_movies = soup.find_all('td',class_='titleColumn')\n",
    "scraped_movies"
   ]
  },
  {
   "cell_type": "code",
   "execution_count": null,
   "metadata": {},
   "outputs": [],
   "source": [
    "movies = []\n",
    "for movie in scraped_movies:\n",
    "    movies.append(movie.text.replace('\\n',''))\n",
    "movies"
   ]
  },
  {
   "cell_type": "code",
   "execution_count": null,
   "metadata": {},
   "outputs": [],
   "source": [
    "len(movies)"
   ]
  },
  {
   "cell_type": "code",
   "execution_count": null,
   "metadata": {},
   "outputs": [],
   "source": [
    "scraped_ratings = soup.find_all('td',class_='ratingColumn imdbRating')\n",
    "scraped_ratings"
   ]
  },
  {
   "cell_type": "code",
   "execution_count": null,
   "metadata": {},
   "outputs": [],
   "source": [
    "ratings = []\n",
    "for rating in scraped_ratings:\n",
    "    ratings.append(rating.text.replace('\\n',''))\n",
    "ratings"
   ]
  },
  {
   "cell_type": "code",
   "execution_count": null,
   "metadata": {},
   "outputs": [],
   "source": [
    "len(ratings)"
   ]
  },
  {
   "cell_type": "code",
   "execution_count": null,
   "metadata": {},
   "outputs": [],
   "source": [
    "realesed_years = soup.find_all('span',class_='secondaryInfo')\n",
    "realesed_years"
   ]
  },
  {
   "cell_type": "code",
   "execution_count": null,
   "metadata": {},
   "outputs": [],
   "source": [
    "years = []\n",
    "for year in realesed_years:\n",
    "    years.append(year.text.replace('\\n',''))\n",
    "years"
   ]
  },
  {
   "cell_type": "code",
   "execution_count": null,
   "metadata": {},
   "outputs": [],
   "source": [
    "len(years)"
   ]
  },
  {
   "cell_type": "code",
   "execution_count": null,
   "metadata": {},
   "outputs": [],
   "source": [
    "# save the data\n",
    "data = pd.DataFrame()\n",
    "data['Movie Name'] = movies\n",
    "data['Rating'] = ratings\n",
    "data['Year of Release'] = years\n",
    "data"
   ]
  },
  {
   "cell_type": "code",
   "execution_count": null,
   "metadata": {},
   "outputs": [],
   "source": [
    "# top 100 movies list as follows:\n",
    "df = data.drop(data.index[100:])\n",
    "df"
   ]
  },
  {
   "cell_type": "markdown",
   "metadata": {},
   "source": [
    "## 3.Write a python program to display IMDB’s Top rated 100 Indian movies’ data (i.e. Name, IMDB rating, Year of release)"
   ]
  },
  {
   "cell_type": "code",
   "execution_count": null,
   "metadata": {},
   "outputs": [],
   "source": [
    "import pandas as pd\n",
    "from bs4 import BeautifulSoup \n",
    "import requests"
   ]
  },
  {
   "cell_type": "code",
   "execution_count": null,
   "metadata": {},
   "outputs": [],
   "source": [
    "page = requests.get('https://www.imdb.com/india/top-rated-indian-movies/')\n",
    "page"
   ]
  },
  {
   "cell_type": "code",
   "execution_count": null,
   "metadata": {},
   "outputs": [],
   "source": [
    "soup = BeautifulSoup(page.content,'html.parser')\n",
    "print(soup.prettify)"
   ]
  },
  {
   "cell_type": "code",
   "execution_count": null,
   "metadata": {},
   "outputs": [],
   "source": [
    "indian_movie_data = soup.find_all('td',class_='titleColumn')\n",
    "indian_movie_data"
   ]
  },
  {
   "cell_type": "code",
   "execution_count": null,
   "metadata": {},
   "outputs": [],
   "source": [
    "movies = []\n",
    "for movie in indian_movie_data:\n",
    "    movies.append(movie.text.replace('\\n','').strip())\n",
    "movies"
   ]
  },
  {
   "cell_type": "code",
   "execution_count": null,
   "metadata": {},
   "outputs": [],
   "source": [
    "len(movies)"
   ]
  },
  {
   "cell_type": "code",
   "execution_count": null,
   "metadata": {},
   "outputs": [],
   "source": [
    "scraped_ratings = soup.find_all('td',class_='ratingColumn imdbRating')\n",
    "scraped_ratings"
   ]
  },
  {
   "cell_type": "code",
   "execution_count": null,
   "metadata": {},
   "outputs": [],
   "source": [
    "ratings = []\n",
    "for rating in scraped_ratings:\n",
    "    ratings.append(rating.text.replace('\\n',''))     \n",
    "ratings"
   ]
  },
  {
   "cell_type": "code",
   "execution_count": null,
   "metadata": {},
   "outputs": [],
   "source": [
    "len(ratings)"
   ]
  },
  {
   "cell_type": "code",
   "execution_count": null,
   "metadata": {},
   "outputs": [],
   "source": [
    "year_of_release = soup.find_all('span',class_='secondaryInfo')\n",
    "year_of_release"
   ]
  },
  {
   "cell_type": "code",
   "execution_count": null,
   "metadata": {},
   "outputs": [],
   "source": [
    "years = []\n",
    "for year in year_of_release:\n",
    "    years.append(year.text.replace('\\n','')) \n",
    "years"
   ]
  },
  {
   "cell_type": "code",
   "execution_count": null,
   "metadata": {},
   "outputs": [],
   "source": [
    "len(years)"
   ]
  },
  {
   "cell_type": "code",
   "execution_count": null,
   "metadata": {},
   "outputs": [],
   "source": [
    "data = pd.DataFrame()\n",
    "data['Movie Name'] = movies\n",
    "data['Rating'] = ratings\n",
    "data['Year of Release'] = years\n",
    "data"
   ]
  },
  {
   "cell_type": "code",
   "execution_count": null,
   "metadata": {},
   "outputs": [],
   "source": [
    "# top 100 indian movies list\n",
    "df = data.drop(data.index[100:])\n",
    "df"
   ]
  },
  {
   "cell_type": "code",
   "execution_count": null,
   "metadata": {},
   "outputs": [],
   "source": []
  },
  {
   "cell_type": "markdown",
   "metadata": {},
   "source": [
    "## 4. Write a python program to scrap book name, author name, genre and book review of any 5 books from ‘www.bookpage.com’"
   ]
  },
  {
   "cell_type": "code",
   "execution_count": null,
   "metadata": {},
   "outputs": [],
   "source": [
    "page = requests.get('https://bookpage.com/reviews')\n",
    "page"
   ]
  },
  {
   "cell_type": "code",
   "execution_count": null,
   "metadata": {},
   "outputs": [],
   "source": [
    "soup = BeautifulSoup(page.content,'html.parser')\n",
    "print(soup.prettify)"
   ]
  },
  {
   "cell_type": "code",
   "execution_count": null,
   "metadata": {},
   "outputs": [],
   "source": [
    "# scrap book name\n",
    "scraped_book_name = soup.find_all('div',class_='flex-article-content')\n",
    "scraped_book_name"
   ]
  },
  {
   "cell_type": "code",
   "execution_count": null,
   "metadata": {},
   "outputs": [],
   "source": [
    "b_names = []\n",
    "for b_name in scraped_book_name:\n",
    "    b_names.append(b_name.a.text.replace('\\n','').strip())\n",
    "b_names"
   ]
  },
  {
   "cell_type": "code",
   "execution_count": null,
   "metadata": {},
   "outputs": [],
   "source": [
    "# scrap author name\n",
    "scraped_author_name = soup.find_all('p',class_='sans bold')\n",
    "scraped_author_name"
   ]
  },
  {
   "cell_type": "code",
   "execution_count": null,
   "metadata": {},
   "outputs": [],
   "source": [
    "a_names = []\n",
    "for a_name in scraped_author_name:\n",
    "    a_names.append(a_name.text.replace('\\n',''))\n",
    "a_names"
   ]
  },
  {
   "cell_type": "code",
   "execution_count": null,
   "metadata": {},
   "outputs": [],
   "source": [
    "# scrap genre\n",
    "scraped_genre = soup.find_all('div',class_='facets')\n",
    "scraped_genre"
   ]
  },
  {
   "cell_type": "code",
   "execution_count": null,
   "metadata": {},
   "outputs": [],
   "source": [
    "s_genre = []\n",
    "for genre in scraped_genre:\n",
    "    s_genre.append(genre.text.replace('\\n',''))\n",
    "s_genre"
   ]
  },
  {
   "cell_type": "code",
   "execution_count": null,
   "metadata": {},
   "outputs": [],
   "source": [
    "# scrap book review\n",
    "scraped_book_review = soup.find_all('p',class_='excerpt')\n",
    "scraped_book_review"
   ]
  },
  {
   "cell_type": "code",
   "execution_count": null,
   "metadata": {},
   "outputs": [],
   "source": [
    "reviews = []\n",
    "for review in scraped_book_review:\n",
    "    reviews.append(review.text.replace('\\n',''))\n",
    "reviews"
   ]
  },
  {
   "cell_type": "code",
   "execution_count": null,
   "metadata": {},
   "outputs": [],
   "source": [
    "# thought data contains first 100 records, but let's see first 5 \n",
    "data = pd.DataFrame()\n",
    "data['Book Name'] = b_names\n",
    "data['Author Name'] = a_names\n",
    "data['Book Review'] = reviews\n",
    "data.head()"
   ]
  },
  {
   "cell_type": "markdown",
   "metadata": {},
   "source": [
    "## 5. Write a python program to scrape cricket rankings from ‘www.icc-cricket.com’. You have to scrape:<br>\n",
    "<b>i) Top 10 ODI teams in men’s cricket along with the records for matches, points and rating.</b><br>\n",
    "<b>ii) Top 10 ODI Batsmen in men along with the records of their team and rating.</b><br>\n",
    "<b>iii) Top 10 ODI bowlers along with the records of their team andrating.</b><br>\n"
   ]
  },
  {
   "cell_type": "markdown",
   "metadata": {},
   "source": [
    "<b>i) Top 10 ODI teams in men’s cricket along with the records for matches, points and rating.</b><br>"
   ]
  },
  {
   "cell_type": "code",
   "execution_count": null,
   "metadata": {},
   "outputs": [],
   "source": [
    "page = requests.get('https://www.icc-cricket.com/rankings/mens/team-rankings/odi')\n",
    "page"
   ]
  },
  {
   "cell_type": "code",
   "execution_count": null,
   "metadata": {},
   "outputs": [],
   "source": [
    "soup = BeautifulSoup(page.content,'html.parser')\n",
    "print(soup.prettify)"
   ]
  },
  {
   "cell_type": "code",
   "execution_count": null,
   "metadata": {},
   "outputs": [],
   "source": [
    "# scrap country\n",
    "scraped_countries = soup.find_all('span',class_='u-hide-phablet')\n",
    "scraped_countries"
   ]
  },
  {
   "cell_type": "code",
   "execution_count": null,
   "metadata": {},
   "outputs": [],
   "source": [
    "countries = []\n",
    "for country in scraped_countries:\n",
    "    countries.append(country.text.replace('\\n',''))\n",
    "countries"
   ]
  },
  {
   "cell_type": "code",
   "execution_count": null,
   "metadata": {},
   "outputs": [],
   "source": [
    "len(countries)"
   ]
  },
  {
   "cell_type": "code",
   "execution_count": null,
   "metadata": {},
   "outputs": [],
   "source": [
    "# Scrapped matches \n",
    "no_of_matches = []\n",
    "match = soup.find_all('td',class_='rankings-block__banner--matches')\n",
    "for i in match:\n",
    "    no_of_matches.append(i.text)\n",
    "no_of_matches"
   ]
  },
  {
   "cell_type": "code",
   "execution_count": null,
   "metadata": {},
   "outputs": [],
   "source": [
    "complete_info = []\n",
    "match_1 = soup.find_all('td',class_='table-body__cell u-center-text')\n",
    "for i in match_1:\n",
    "    complete_info.append(i.text)\n",
    "complete_info \n",
    "\n",
    "for i in range(0,len(complete_info),2):\n",
    "    no_of_matches.append(complete_info[i])\n",
    "no_of_matches"
   ]
  },
  {
   "cell_type": "code",
   "execution_count": null,
   "metadata": {},
   "outputs": [],
   "source": [
    "len(no_of_matches)"
   ]
  },
  {
   "cell_type": "code",
   "execution_count": null,
   "metadata": {},
   "outputs": [],
   "source": [
    "# Scrapped points\n",
    "no_of_point = []\n",
    "point = soup.find_all('td',class_='rankings-block__banner--points')\n",
    "for i in point:\n",
    "    no_of_point.append(i.text)\n",
    "no_of_point"
   ]
  },
  {
   "cell_type": "code",
   "execution_count": null,
   "metadata": {},
   "outputs": [],
   "source": [
    "complete_info = []\n",
    "point_1 = soup.find_all('td',class_='table-body__cell u-center-text')\n",
    "for i in point_1:\n",
    "    complete_info.append(i.text)\n",
    "complete_info \n",
    "\n",
    "for i in range(1,len(complete_info),2):\n",
    "    no_of_point.append(complete_info[i])\n",
    "no_of_point"
   ]
  },
  {
   "cell_type": "code",
   "execution_count": null,
   "metadata": {},
   "outputs": [],
   "source": [
    "len(no_of_point)"
   ]
  },
  {
   "cell_type": "code",
   "execution_count": null,
   "metadata": {},
   "outputs": [],
   "source": [
    "# scrapped ratings\n",
    "ratings = []\n",
    "rating = soup.find_all('td',class_='rankings-block__banner--rating u-text-right')\n",
    "for i in rating:\n",
    "    ratings.append(i.text.replace('\\n',''))\n",
    "ratings"
   ]
  },
  {
   "cell_type": "code",
   "execution_count": null,
   "metadata": {},
   "outputs": [],
   "source": [
    "rating_1 = soup.find_all('td',class_='table-body__cell u-text-right rating')\n",
    "for i in rating_1:\n",
    "    ratings.append(i.text.replace('\\n',''))\n",
    "ratings"
   ]
  },
  {
   "cell_type": "code",
   "execution_count": null,
   "metadata": {},
   "outputs": [],
   "source": [
    "len(ratings)"
   ]
  },
  {
   "cell_type": "code",
   "execution_count": null,
   "metadata": {},
   "outputs": [],
   "source": [
    "# Store data\n",
    "data = pd.DataFrame()\n",
    "data['Matches'] = no_of_matches\n",
    "data['Points'] = no_of_point\n",
    "data['Ratings'] = ratings\n",
    "data.head()"
   ]
  },
  {
   "cell_type": "markdown",
   "metadata": {},
   "source": [
    "<b>ii) Top 10 ODI Batsmen in men along with the records of their team and rating.</b><br>"
   ]
  },
  {
   "cell_type": "code",
   "execution_count": null,
   "metadata": {},
   "outputs": [],
   "source": [
    "page = requests.get('https://www.icc-cricket.com/rankings/mens/player-rankings/odi/batting')\n",
    "page"
   ]
  },
  {
   "cell_type": "code",
   "execution_count": null,
   "metadata": {},
   "outputs": [],
   "source": [
    "soup = BeautifulSoup(page.content)\n",
    "soup"
   ]
  },
  {
   "cell_type": "code",
   "execution_count": null,
   "metadata": {},
   "outputs": [],
   "source": [
    "# Scrapped batsmen \n",
    "batsmen = []\n",
    "batsman = soup.find_all('div',class_='rankings-block__banner--name-large')\n",
    "for i in batsman:\n",
    "    batsmen.append(i.text)\n",
    "batsmen"
   ]
  },
  {
   "cell_type": "code",
   "execution_count": null,
   "metadata": {},
   "outputs": [],
   "source": [
    "batsman = soup.find_all('td',class_='table-body__cell rankings-table__name name')\n",
    "for i in batsman:\n",
    "    batsmen.append(i.text.replace('\\n',''))\n",
    "batsmen"
   ]
  },
  {
   "cell_type": "code",
   "execution_count": null,
   "metadata": {},
   "outputs": [],
   "source": [
    "len(batsmen)"
   ]
  },
  {
   "cell_type": "code",
   "execution_count": null,
   "metadata": {},
   "outputs": [],
   "source": [
    "# Scraped ratings\n",
    "ratings = []\n",
    "rating = soup.find_all('div',class_='rankings-block__banner--rating')\n",
    "for i in rating:\n",
    "    ratings.append(i.text)\n",
    "ratings"
   ]
  },
  {
   "cell_type": "code",
   "execution_count": null,
   "metadata": {},
   "outputs": [],
   "source": [
    "rating_1 = soup.find_all('td',class_='table-body__cell rating')\n",
    "for i in rating_1:\n",
    "    ratings.append(i.text.replace('\\n',''))\n",
    "ratings"
   ]
  },
  {
   "cell_type": "code",
   "execution_count": null,
   "metadata": {},
   "outputs": [],
   "source": [
    "len(ratings)"
   ]
  },
  {
   "cell_type": "code",
   "execution_count": null,
   "metadata": {},
   "outputs": [],
   "source": [
    "# Scraped teams\n",
    "teams = []\n",
    "team = soup.find_all('div',class_='rankings-block__banner--nationality')\n",
    "for i in team:\n",
    "    teams.append(i.text.replace('\\n',''))\n",
    "teams"
   ]
  },
  {
   "cell_type": "code",
   "execution_count": null,
   "metadata": {},
   "outputs": [],
   "source": [
    "team_1 = soup.find_all('span',class_='table-body__logo-text')\n",
    "for i in team_1:\n",
    "    teams.append(i.text.replace('\\n',''))\n",
    "teams"
   ]
  },
  {
   "cell_type": "code",
   "execution_count": null,
   "metadata": {},
   "outputs": [],
   "source": [
    "len(teams)"
   ]
  },
  {
   "cell_type": "code",
   "execution_count": null,
   "metadata": {},
   "outputs": [],
   "source": [
    "# Store data\n",
    "data = pd.DataFrame()\n",
    "data['Batsmen'] = batsmen\n",
    "data['Teams'] = teams\n",
    "data['Ratings'] = ratings\n",
    "data.head()"
   ]
  },
  {
   "cell_type": "markdown",
   "metadata": {},
   "source": [
    "<b>iii) Top 10 ODI bowlers along with the records of their team and rating.</b><br>"
   ]
  },
  {
   "cell_type": "code",
   "execution_count": null,
   "metadata": {},
   "outputs": [],
   "source": [
    "page = requests.get('https://www.icc-cricket.com/rankings/mens/player-rankings/odi/bowling')\n",
    "page"
   ]
  },
  {
   "cell_type": "code",
   "execution_count": null,
   "metadata": {},
   "outputs": [],
   "source": [
    "soup = BeautifulSoup(page.content)\n",
    "soup"
   ]
  },
  {
   "cell_type": "code",
   "execution_count": null,
   "metadata": {},
   "outputs": [],
   "source": [
    "# Scrapped bowlers \n",
    "bowlers = []\n",
    "bowler = soup.find_all('div',class_='rankings-block__banner--name-large')\n",
    "for i in bowler:\n",
    "    bowlers.append(i.text)\n",
    "bowlers"
   ]
  },
  {
   "cell_type": "code",
   "execution_count": null,
   "metadata": {},
   "outputs": [],
   "source": [
    "bowler_1 = soup.find_all('td',class_='table-body__cell rankings-table__name name')\n",
    "for i in bowler_1:\n",
    "    bowlers.append(i.text.replace('\\n',''))\n",
    "bowlers"
   ]
  },
  {
   "cell_type": "code",
   "execution_count": null,
   "metadata": {},
   "outputs": [],
   "source": [
    "len(bowlers)"
   ]
  },
  {
   "cell_type": "code",
   "execution_count": null,
   "metadata": {},
   "outputs": [],
   "source": [
    "# Scraped teams\n",
    "teams = []\n",
    "team = soup.find_all('div',class_='rankings-block__banner--nationality')\n",
    "for i in team:\n",
    "    teams.append(i.text.replace('\\n',''))\n",
    "teams"
   ]
  },
  {
   "cell_type": "code",
   "execution_count": null,
   "metadata": {},
   "outputs": [],
   "source": [
    "team_1 = soup.find_all('span',class_='table-body__logo-text')\n",
    "for i in team_1:\n",
    "    teams.append(i.text.replace('\\n',''))\n",
    "teams"
   ]
  },
  {
   "cell_type": "code",
   "execution_count": null,
   "metadata": {},
   "outputs": [],
   "source": [
    "len(teams)"
   ]
  },
  {
   "cell_type": "code",
   "execution_count": null,
   "metadata": {},
   "outputs": [],
   "source": [
    "# Scraped ratings\n",
    "ratings = []\n",
    "rating = soup.find_all('div',class_='rankings-block__banner--rating')\n",
    "for i in rating:\n",
    "    ratings.append(i.text)\n",
    "ratings"
   ]
  },
  {
   "cell_type": "code",
   "execution_count": null,
   "metadata": {},
   "outputs": [],
   "source": [
    "rating_1 = soup.find_all('td',class_='table-body__cell rating')\n",
    "for i in rating_1:\n",
    "    ratings.append(i.text.replace('\\n',''))\n",
    "ratings"
   ]
  },
  {
   "cell_type": "code",
   "execution_count": null,
   "metadata": {},
   "outputs": [],
   "source": [
    "len(ratings)"
   ]
  },
  {
   "cell_type": "code",
   "execution_count": null,
   "metadata": {},
   "outputs": [],
   "source": [
    "# scrapped records\n",
    "records = []\n",
    "record = soup.find_all('div',class_='rankings-block__career-best')\n",
    "for i in record:\n",
    "    records.append(i.text.replace('\\n',''))\n",
    "records"
   ]
  },
  {
   "cell_type": "code",
   "execution_count": null,
   "metadata": {},
   "outputs": [],
   "source": [
    "record_1 = soup.find_all('td',class_='table-body__cell u-text-right u-hide-phablet')\n",
    "for i in record_1:\n",
    "    records.append(i.text.replace('\\n',''))\n",
    "records"
   ]
  },
  {
   "cell_type": "code",
   "execution_count": null,
   "metadata": {},
   "outputs": [],
   "source": [
    "len(records)"
   ]
  },
  {
   "cell_type": "code",
   "execution_count": null,
   "metadata": {},
   "outputs": [],
   "source": [
    "# Store data\n",
    "data = pd.DataFrame()\n",
    "data['Bowlers'] = bowlers\n",
    "data['Teams'] = teams\n",
    "data['Ratings'] = ratings\n",
    "data['Records'] = records\n",
    "data.head()"
   ]
  },
  {
   "cell_type": "markdown",
   "metadata": {},
   "source": [
    "## 6. Write a python program to scrape cricket rankings from ‘www.icc-cricket.com’. You have toscrape:<br>\n",
    "<b>i) Top 10 ODI teams in women’s cricket along with the records for matches, points and rating.<b><br>\n",
    "<b>ii) Top 10 women’s ODI players along with the records of their team and rating.<b><br>\n",
    "<b>iii) Top 10 women’s ODI all-rounder along with the records of their team and rating.<b><br>"
   ]
  },
  {
   "cell_type": "markdown",
   "metadata": {},
   "source": [
    "<b>i) Top 10 ODI teams in women’s cricket along with the records for matches, points and rating.<b><br>"
   ]
  },
  {
   "cell_type": "code",
   "execution_count": null,
   "metadata": {},
   "outputs": [],
   "source": [
    "page = requests.get('https://www.icc-cricket.com/rankings/womens/team-rankings/odi')\n",
    "page"
   ]
  },
  {
   "cell_type": "code",
   "execution_count": null,
   "metadata": {},
   "outputs": [],
   "source": [
    "soup = BeautifulSoup(page.content)\n",
    "soup"
   ]
  },
  {
   "cell_type": "code",
   "execution_count": null,
   "metadata": {},
   "outputs": [],
   "source": [
    "# Scrapped teams\n",
    "teams_1 = []\n",
    "team_ = soup.find_all('td',class_='rankings-block__banner--team-name')\n",
    "for i in team_:\n",
    "    teams_1.append(i.text.replace('\\n',''))\n",
    "teams_1"
   ]
  },
  {
   "cell_type": "code",
   "execution_count": null,
   "metadata": {},
   "outputs": [],
   "source": [
    "team_1 = soup.find_all('td',class_='table-body__cell rankings-table__team')\n",
    "for i in team_1:\n",
    "    teams_1.append(i.text.replace('\\n',''))\n",
    "teams_1"
   ]
  },
  {
   "cell_type": "code",
   "execution_count": null,
   "metadata": {},
   "outputs": [],
   "source": [
    "len(teams_1)"
   ]
  },
  {
   "cell_type": "code",
   "execution_count": null,
   "metadata": {},
   "outputs": [],
   "source": [
    "# scrapped matches\n",
    "no_of_matches = []\n",
    "matche = soup.find_all('td',class_='rankings-block__banner--matches')\n",
    "for i in matche:\n",
    "    no_of_matches.append(i.text.replace('\\n',''))\n",
    "no_of_matches"
   ]
  },
  {
   "cell_type": "code",
   "execution_count": null,
   "metadata": {},
   "outputs": [],
   "source": [
    "complete_info = []\n",
    "match_1 = soup.find_all('td',class_='table-body__cell u-center-text')\n",
    "for i in match_1:\n",
    "    complete_info.append(i.text)\n",
    "complete_info\n",
    "\n",
    "for i in range(0,len(complete_info),2):\n",
    "    no_of_matches.append(complete_info[i])\n",
    "no_of_matches"
   ]
  },
  {
   "cell_type": "code",
   "execution_count": null,
   "metadata": {},
   "outputs": [],
   "source": [
    "len(no_of_matches)"
   ]
  },
  {
   "cell_type": "code",
   "execution_count": null,
   "metadata": {},
   "outputs": [],
   "source": [
    "# Scrapped points\n",
    "no_of_point = []\n",
    "point = soup.find_all('td',class_='rankings-block__banner--points')\n",
    "for i in point:\n",
    "    no_of_point.append(i.text)\n",
    "no_of_point"
   ]
  },
  {
   "cell_type": "code",
   "execution_count": null,
   "metadata": {},
   "outputs": [],
   "source": [
    "complete_info = []\n",
    "point_1 = soup.find_all('td',class_='table-body__cell u-center-text')\n",
    "for i in point_1:\n",
    "    complete_info.append(i.text)\n",
    "complete_info \n",
    "\n",
    "for i in range(1,len(complete_info),2):\n",
    "    no_of_point.append(complete_info[i])\n",
    "no_of_point"
   ]
  },
  {
   "cell_type": "code",
   "execution_count": null,
   "metadata": {},
   "outputs": [],
   "source": [
    "len(no_of_point)"
   ]
  },
  {
   "cell_type": "code",
   "execution_count": null,
   "metadata": {},
   "outputs": [],
   "source": [
    "# Scraped ratings\n",
    "ratings = []\n",
    "rating = soup.find_all('td',class_='rankings-block__banner--rating u-text-right')\n",
    "for i in rating:\n",
    "    ratings.append(i.text.replace('\\n',''))\n",
    "ratings"
   ]
  },
  {
   "cell_type": "code",
   "execution_count": null,
   "metadata": {},
   "outputs": [],
   "source": [
    "rating_1 = soup.find_all('td',class_='table-body__cell u-text-right rating')\n",
    "for i in rating_1:\n",
    "    ratings.append(i.text.replace('\\n',''))\n",
    "ratings"
   ]
  },
  {
   "cell_type": "code",
   "execution_count": null,
   "metadata": {},
   "outputs": [],
   "source": [
    "len(ratings)"
   ]
  },
  {
   "cell_type": "code",
   "execution_count": null,
   "metadata": {},
   "outputs": [],
   "source": [
    "# Store data\n",
    "data = pd.DataFrame()\n",
    "data['Teams'] = teams_1\n",
    "data['No of matches'] = no_of_matches\n",
    "data['Points'] = no_of_point\n",
    "data['Ratings'] = ratings\n",
    "data"
   ]
  },
  {
   "cell_type": "markdown",
   "metadata": {},
   "source": [
    "<b>ii) Top 10 women’s ODI players along with the records of their team and rating.<b><br>"
   ]
  },
  {
   "cell_type": "code",
   "execution_count": null,
   "metadata": {},
   "outputs": [],
   "source": [
    "# Women's ODI Batting Rankings\n",
    "page = requests.get('https://www.icc-cricket.com/rankings/womens/player-rankings/odi/batting')\n",
    "page\n"
   ]
  },
  {
   "cell_type": "code",
   "execution_count": null,
   "metadata": {},
   "outputs": [],
   "source": [
    "soup = BeautifulSoup(page.content)\n",
    "soup\n",
    "\n",
    "# Scrapped batsmen \n",
    "batswomen = []\n",
    "batswoman = soup.find_all('div',class_='rankings-block__banner--name-large')\n",
    "for i in batswoman:\n",
    "    batswomen.append(i.text)\n",
    "batswomen"
   ]
  },
  {
   "cell_type": "code",
   "execution_count": null,
   "metadata": {},
   "outputs": [],
   "source": [
    "batswoman = soup.find_all('td',class_='table-body__cell rankings-table__name name')\n",
    "for i in batswoman:\n",
    "    batswomen.append(i.text.replace('\\n',''))\n",
    "batswomen"
   ]
  },
  {
   "cell_type": "code",
   "execution_count": null,
   "metadata": {},
   "outputs": [],
   "source": [
    "len(batswomen)"
   ]
  },
  {
   "cell_type": "code",
   "execution_count": null,
   "metadata": {},
   "outputs": [],
   "source": [
    "# Scraped ratings\n",
    "ratings = []\n",
    "rating = soup.find_all('div',class_='rankings-block__banner--rating')\n",
    "for i in rating:\n",
    "    ratings.append(i.text)\n",
    "ratings"
   ]
  },
  {
   "cell_type": "code",
   "execution_count": null,
   "metadata": {},
   "outputs": [],
   "source": [
    "rating_1 = soup.find_all('td',class_='table-body__cell rating')\n",
    "for i in rating_1:\n",
    "    ratings.append(i.text.replace('\\n',''))\n",
    "ratings"
   ]
  },
  {
   "cell_type": "code",
   "execution_count": null,
   "metadata": {},
   "outputs": [],
   "source": [
    "len(ratings)"
   ]
  },
  {
   "cell_type": "code",
   "execution_count": null,
   "metadata": {},
   "outputs": [],
   "source": [
    "# Scraped teams\n",
    "teams = []\n",
    "team = soup.find_all('div',class_='rankings-block__banner--nationality')\n",
    "for i in team:\n",
    "    teams.append(i.text.replace('\\n',''))\n",
    "teams"
   ]
  },
  {
   "cell_type": "code",
   "execution_count": null,
   "metadata": {},
   "outputs": [],
   "source": [
    "team_1 = soup.find_all('span',class_='table-body__logo-text')\n",
    "for i in team_1:\n",
    "    teams.append(i.text.replace('\\n',''))\n",
    "teams"
   ]
  },
  {
   "cell_type": "code",
   "execution_count": null,
   "metadata": {},
   "outputs": [],
   "source": [
    "len(teams)"
   ]
  },
  {
   "cell_type": "code",
   "execution_count": null,
   "metadata": {},
   "outputs": [],
   "source": [
    "# Store data\n",
    "data = pd.DataFrame()\n",
    "data['Batswomen'] = batswomen\n",
    "data['Teams'] = teams\n",
    "data['Ratings'] = ratings\n",
    "data.head()"
   ]
  },
  {
   "cell_type": "code",
   "execution_count": null,
   "metadata": {},
   "outputs": [],
   "source": [
    "# Women's ODI Bowling Rankings\n",
    "page = requests.get('https://www.icc-cricket.com/rankings/womens/player-rankings/odi/bowling')\n",
    "page"
   ]
  },
  {
   "cell_type": "code",
   "execution_count": null,
   "metadata": {},
   "outputs": [],
   "source": [
    "soup = BeautifulSoup(page.content)\n",
    "soup"
   ]
  },
  {
   "cell_type": "code",
   "execution_count": null,
   "metadata": {},
   "outputs": [],
   "source": [
    "# Scrapped bowlers \n",
    "bowlers = []\n",
    "bowler = soup.find_all('div',class_='rankings-block__banner--name-large')\n",
    "for i in bowler:\n",
    "    bowlers.append(i.text)\n",
    "bowlers"
   ]
  },
  {
   "cell_type": "code",
   "execution_count": null,
   "metadata": {},
   "outputs": [],
   "source": [
    "bowler_1 = soup.find_all('td',class_='table-body__cell rankings-table__name name')\n",
    "for i in bowler_1:\n",
    "    bowlers.append(i.text.replace('\\n',''))\n",
    "bowlers"
   ]
  },
  {
   "cell_type": "code",
   "execution_count": null,
   "metadata": {},
   "outputs": [],
   "source": [
    "len(bowlers)"
   ]
  },
  {
   "cell_type": "code",
   "execution_count": null,
   "metadata": {},
   "outputs": [],
   "source": [
    "# Scraped teams\n",
    "teams = []\n",
    "team = soup.find_all('div',class_='rankings-block__banner--nationality')\n",
    "for i in team:\n",
    "    teams.append(i.text.replace('\\n',''))\n",
    "teams"
   ]
  },
  {
   "cell_type": "code",
   "execution_count": null,
   "metadata": {},
   "outputs": [],
   "source": [
    "team_1 = soup.find_all('span',class_='table-body__logo-text')\n",
    "for i in team_1:\n",
    "    teams.append(i.text.replace('\\n',''))\n",
    "teams"
   ]
  },
  {
   "cell_type": "code",
   "execution_count": null,
   "metadata": {},
   "outputs": [],
   "source": [
    "len(teams)"
   ]
  },
  {
   "cell_type": "code",
   "execution_count": null,
   "metadata": {},
   "outputs": [],
   "source": [
    "# Scraped ratings\n",
    "ratings = []\n",
    "rating = soup.find_all('div',class_='rankings-block__banner--rating')\n",
    "for i in rating:\n",
    "    ratings.append(i.text)\n",
    "ratings"
   ]
  },
  {
   "cell_type": "code",
   "execution_count": null,
   "metadata": {},
   "outputs": [],
   "source": [
    "rating_1 = soup.find_all('td',class_='table-body__cell rating')\n",
    "for i in rating_1:\n",
    "    ratings.append(i.text.replace('\\n',''))\n",
    "ratings"
   ]
  },
  {
   "cell_type": "code",
   "execution_count": null,
   "metadata": {},
   "outputs": [],
   "source": [
    "len(ratings)"
   ]
  },
  {
   "cell_type": "code",
   "execution_count": null,
   "metadata": {},
   "outputs": [],
   "source": [
    "# Store data\n",
    "data = pd.DataFrame()\n",
    "data['Bowlers'] = bowlers\n",
    "data['Teams'] = teams\n",
    "data['Ratings'] = ratings\n",
    "data.head()"
   ]
  },
  {
   "cell_type": "markdown",
   "metadata": {},
   "source": [
    "<b>iii) Top 10 women’s ODI all-rounder along with the records of their team and rating.<b><br>"
   ]
  },
  {
   "cell_type": "code",
   "execution_count": null,
   "metadata": {},
   "outputs": [],
   "source": [
    "# Women's ODI All-Rounder Rankings\n",
    "page = requests.get('https://www.icc-cricket.com/rankings/womens/player-rankings/odi/all-rounder')\n",
    "page"
   ]
  },
  {
   "cell_type": "code",
   "execution_count": null,
   "metadata": {},
   "outputs": [],
   "source": [
    "soup = BeautifulSoup(page.content)\n",
    "soup"
   ]
  },
  {
   "cell_type": "code",
   "execution_count": null,
   "metadata": {},
   "outputs": [],
   "source": [
    "# scrap name of all rounder\n",
    "all_rounder_1 = []\n",
    "all_rounder = soup.find_all('div',class_='rankings-block__banner--name-large')\n",
    "for i in all_rounder:\n",
    "    all_rounder_1.append(i.text)\n",
    "all_rounder_1"
   ]
  },
  {
   "cell_type": "code",
   "execution_count": null,
   "metadata": {},
   "outputs": [],
   "source": [
    "all_rounder_ = soup.find_all('td',class_='table-body__cell rankings-table__name name')\n",
    "for i in all_rounder_:\n",
    "    all_rounder_1.append(i.text)\n",
    "all_rounder_1"
   ]
  },
  {
   "cell_type": "code",
   "execution_count": null,
   "metadata": {},
   "outputs": [],
   "source": [
    "len(all_rounder_1)"
   ]
  },
  {
   "cell_type": "code",
   "execution_count": null,
   "metadata": {},
   "outputs": [],
   "source": [
    "# scrap team \n",
    "teams = []\n",
    "team = soup.find_all('div',class_='rankings-block__banner--nationality')\n",
    "for i in team:\n",
    "    teams.append(i.text.replace('\\n',''))\n",
    "teams"
   ]
  },
  {
   "cell_type": "code",
   "execution_count": null,
   "metadata": {},
   "outputs": [],
   "source": [
    "team_1 = soup.find_all('span',class_='table-body__logo-text')\n",
    "for i in team_1:\n",
    "    teams.append(i.text.replace('\\n',''))\n",
    "teams"
   ]
  },
  {
   "cell_type": "code",
   "execution_count": null,
   "metadata": {},
   "outputs": [],
   "source": [
    "len(teams)"
   ]
  },
  {
   "cell_type": "code",
   "execution_count": null,
   "metadata": {},
   "outputs": [],
   "source": [
    "# Scraped ratings\n",
    "ratings = []\n",
    "rating = soup.find_all('div',class_='rankings-block__banner--rating')\n",
    "for i in rating:\n",
    "    ratings.append(i.text)\n",
    "ratings"
   ]
  },
  {
   "cell_type": "code",
   "execution_count": null,
   "metadata": {},
   "outputs": [],
   "source": [
    "rating_1 = soup.find_all('td',class_='table-body__cell rating')\n",
    "for i in rating_1:\n",
    "    ratings.append(i.text.replace('\\n',''))\n",
    "ratings"
   ]
  },
  {
   "cell_type": "code",
   "execution_count": null,
   "metadata": {},
   "outputs": [],
   "source": [
    "len(ratings)"
   ]
  },
  {
   "cell_type": "code",
   "execution_count": null,
   "metadata": {},
   "outputs": [],
   "source": [
    "# Store data\n",
    "data = pd.DataFrame()\n",
    "data['Name of all_rounder'] = all_rounder_1\n",
    "data['Teams'] = teams\n",
    "data['Ratings'] = ratings\n",
    "data"
   ]
  },
  {
   "cell_type": "markdown",
   "metadata": {},
   "source": [
    "## 7. Write a python program to scrape details of all the mobile phones under Rs. 20,000 listed on Amazon.in. The scraped data should include Product Name, Price, Image URL and Average Rating."
   ]
  },
  {
   "cell_type": "code",
   "execution_count": null,
   "metadata": {},
   "outputs": [],
   "source": [
    "page = requests.get('https://www.amazon.in/Mobile-Phone-Under-20000/s?k=Mobile+Phone+Under+20000')\n",
    "page"
   ]
  },
  {
   "cell_type": "code",
   "execution_count": null,
   "metadata": {},
   "outputs": [],
   "source": [
    "soup = BeautifulSoup(page.content,'html.parser')\n",
    "print(soup.prettify)"
   ]
  },
  {
   "cell_type": "code",
   "execution_count": null,
   "metadata": {},
   "outputs": [],
   "source": [
    "# scrap product name\n",
    "product_names = []\n",
    "product_name = soup.find_all('h2',class_='a-size-mini a-spacing-none a-color-base s-line-clamp-2')\n",
    "for i in product_name:\n",
    "    product_names.append(i.text.replace('\\n',''))\n",
    "product_names"
   ]
  },
  {
   "cell_type": "code",
   "execution_count": null,
   "metadata": {},
   "outputs": [],
   "source": [
    "len(product_names)"
   ]
  },
  {
   "cell_type": "code",
   "execution_count": null,
   "metadata": {},
   "outputs": [],
   "source": [
    "# Here i receive response 503"
   ]
  }
 ],
 "metadata": {
  "kernelspec": {
   "display_name": "Python 3",
   "language": "python",
   "name": "python3"
  },
  "language_info": {
   "codemirror_mode": {
    "name": "ipython",
    "version": 3
   },
   "file_extension": ".py",
   "mimetype": "text/x-python",
   "name": "python",
   "nbconvert_exporter": "python",
   "pygments_lexer": "ipython3",
   "version": "3.8.5"
  }
 },
 "nbformat": 4,
 "nbformat_minor": 4
}
